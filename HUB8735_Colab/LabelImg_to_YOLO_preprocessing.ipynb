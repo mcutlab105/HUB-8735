{
  "nbformat": 4,
  "nbformat_minor": 0,
  "metadata": {
    "colab": {
      "provenance": [],
      "gpuType": "T4"
    },
    "kernelspec": {
      "name": "python3",
      "display_name": "Python 3"
    },
    "language_info": {
      "name": "python"
    },
    "accelerator": "GPU",
    "gpuClass": "standard"
  },
  "cells": [
    {
      "cell_type": "code",
      "execution_count": null,
      "metadata": {
        "colab": {
          "base_uri": "https://localhost:8080/"
        },
        "id": "k6eLoZ20cI9A",
        "outputId": "34c19c32-a173-4d57-e840-00fb07095d4b"
      },
      "outputs": [
        {
          "output_type": "stream",
          "name": "stdout",
          "text": [
            "/\n",
            "Mounted at /content/gdrive\n"
          ]
        }
      ],
      "source": [
        "# 切換工作目錄到當前目錄的上一級目錄\n",
        "%cd ..\n",
        "# 導入Colab提供的drive模組,該模組包含與Google Drive交互的功能\n",
        "from google.colab import drive\n",
        "# 將Google Drive中的文件系統與Colab環境連接,使Colab能訪問Google Drive中的文件\n",
        "drive.mount('/content/gdrive')"
      ]
    },
    {
      "cell_type": "code",
      "source": [
        "# 將工作目錄切換到指定目錄\n",
        "%cd /content/gdrive/MyDrive/data\n",
        "# 查詢當前工作目錄的所有文件和子目錄\n",
        "%ls"
      ],
      "metadata": {
        "colab": {
          "base_uri": "https://localhost:8080/"
        },
        "id": "vqH93-ESkC28",
        "outputId": "85ca7a24-65e4-4165-9c9d-9ae0cdb9580d"
      },
      "execution_count": null,
      "outputs": [
        {
          "output_type": "stream",
          "name": "stdout",
          "text": [
            "/content/gdrive/MyDrive/data\n",
            "\u001b[0m\u001b[01;34mJPEGImages\u001b[0m/  \u001b[01;34mlabels\u001b[0m/\n"
          ]
        }
      ]
    },
    {
      "cell_type": "code",
      "source": [
        "# 導入Python模組\n",
        "import os\n",
        "import random\n",
        "\n",
        "# 定義訓練集和訓練驗證集的比例\n",
        "trainval_percent = 0.1\n",
        "train_percent = 0.9\n",
        "\n",
        "# 定義了標籤文件的路徑和圖像文件的路徑\n",
        "txtfilepath = 'labels'\n",
        "imgfilepath = './JPEGImages/'\n",
        "\n",
        "# 獲取標籤文件夾中所有文件的名稱列表\n",
        "total_txt = os.listdir(txtfilepath)\n",
        "\n",
        "# 獲取標籤文件的總數\n",
        "num = len(total_txt)\n",
        "# 創建一個包含數字到num-1的數字列表\n",
        "list = range(num)\n",
        "# 計算訓練驗證集的大小\n",
        "tv = int(num * trainval_percent)\n",
        "# 計算訓練集的大小\n",
        "tr = int(tv * train_percent)\n",
        "# 從標籤文件列表中隨機選取tv個文件作為訓練驗證集\n",
        "trainval = random.sample(list, tv)\n",
        "# 從訓練驗證集中隨機選取tr個文件作為訓練集\n",
        "train = random.sample(trainval, tr)\n",
        "\n",
        "# 創建四個文件,分別寫入訓練驗證集、測試集、訓練集、驗證集的文件列表\n",
        "ftrainval = open('trainval.txt', 'w')\n",
        "ftest = open('test.txt', 'w')\n",
        "ftrain = open('train.txt', 'w')\n",
        "fval = open('val.txt', 'w')\n",
        "\n",
        "# 遍歷標籤文件列表,根據隨機劃分結果寫入相應的文件中\n",
        "for i in list:\n",
        "    name = imgfilepath + total_txt[i][:-4] + '.jpg\\n'\n",
        "    if i in trainval:\n",
        "        ftrainval.write(name)\n",
        "        if i in train:\n",
        "            ftest.write(name)\n",
        "        else:\n",
        "            fval.write(name)\n",
        "    else:\n",
        "        ftrain.write(name)\n",
        "\n",
        "\n",
        "# 關閉所有文件\n",
        "ftrainval.close()\n",
        "ftrain.close()\n",
        "fval.close()\n",
        "ftest.close()"
      ],
      "metadata": {
        "id": "1oU-d87xmAZ8"
      },
      "execution_count": null,
      "outputs": []
    },
    {
      "cell_type": "code",
      "source": [
        "# 將兩個文件的內容合併到一個新文件(all_trian.txt)中\n",
        "cat train.txt val.txt  > all_train.txt"
      ],
      "metadata": {
        "id": "DCP5SSOxxiK2"
      },
      "execution_count": null,
      "outputs": []
    },
    {
      "cell_type": "code",
      "source": [
        "# 將工作目錄切換到指定目錄\n",
        "%cd /content/gdrive/MyDrive/data\n",
        "# 查詢當前工作目錄的所有文件和子目錄\n",
        "%ls"
      ],
      "metadata": {
        "colab": {
          "base_uri": "https://localhost:8080/"
        },
        "id": "9rjSx25OTJQP",
        "outputId": "b06ab318-af26-4f49-a724-ee8599a66d2a"
      },
      "execution_count": null,
      "outputs": [
        {
          "output_type": "stream",
          "name": "stdout",
          "text": [
            "/content/gdrive/MyDrive/data\n",
            "all_train.txt  \u001b[0m\u001b[01;34mJPEGImages\u001b[0m/  \u001b[01;34mlabels\u001b[0m/  test.txt  train.txt  trainval.txt  val.txt\n"
          ]
        }
      ]
    }
  ]
}